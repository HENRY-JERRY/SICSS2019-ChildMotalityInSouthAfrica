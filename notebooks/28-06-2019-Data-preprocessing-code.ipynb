{
 "cells": [
  {
   "cell_type": "markdown",
   "metadata": {},
   "source": [
    "## splitting dataset into training and test set"
   ]
  },
  {
   "cell_type": "code",
   "execution_count": null,
   "metadata": {},
   "outputs": [],
   "source": [
    "# Splitting the dataset into the Training set and Test set\n",
    "from sklearn.model_selection import train_test_split\n",
    "X_train, X_test, y_train, y_test = train_test_split(X.values, y, test_size = 0.2, random_state = 0)"
   ]
  },
  {
   "cell_type": "markdown",
   "metadata": {},
   "source": [
    "## Feature scaling"
   ]
  },
  {
   "cell_type": "code",
   "execution_count": null,
   "metadata": {},
   "outputs": [],
   "source": [
    "# Feature Scaling\n",
    "from sklearn.preprocessing import StandardScaler\n",
    "sc = StandardScaler()\n",
    "X_train = sc.fit_transform(X_train)\n",
    "X_test = sc.transform(X_test)"
   ]
  },
  {
   "cell_type": "markdown",
   "metadata": {},
   "source": [
    "## Principal component analysis"
   ]
  },
  {
   "cell_type": "code",
   "execution_count": null,
   "metadata": {},
   "outputs": [],
   "source": [
    "#Applying PCA\n",
    "from sklearn.decomposition import PCA\n",
    "pca = PCA(n_components = 2)\n",
    "X_train = pca.fit_transform(X_train)\n",
    "X_test = pca.transform(X_test)\n",
    "explained_variance = pca.explained_variance_ratio_"
   ]
  },
  {
   "cell_type": "markdown",
   "metadata": {},
   "source": [
    "## Class imbalance: Oversampling"
   ]
  },
  {
   "cell_type": "code",
   "execution_count": null,
   "metadata": {},
   "outputs": [],
   "source": [
    "def overSample_dataPrepation(df):\n",
    "    #-counts the distribution of target variable\n",
    "    target_count = df.died.value_counts()\n",
    "    y = df.loc[:, 'died']\n",
    "    X = df.iloc[:, 0:dataset.shape[1]-1]\n",
    "    df_class_0 = df[df['died'] == 0]\n",
    "    df_class_1 = df[df['died'] == 1]\n",
    "    #-oversampling the lowest class to make it equivalent to the majority class\n",
    "    df_class_1_over = df_class_1.sample(target_count[0], replace=True)\n",
    "    #-concatenate the targets after oversampling\n",
    "    data_train = pd.concat([df_class_0, df_class_1_over], axis=0)\n",
    "    target_count_2 = data_train.died.value_counts()\n",
    "    print('Class 0:', target_count_2[0])\n",
    "    print('Class 1:', target_count_2[1])\n",
    "    print('Proportion:', round(target_count_2[0] / target_count_2[1], 2), ': 1')\n",
    "    \n",
    "    x_labels = data_train.loc[:, 'died']\n",
    "    x_features = data_train.iloc[:, 0:dataset.shape[1]-1]\n",
    "    x_features_train,x_features_test,x_labels_train,x_labels_test = train_test_split(x_features,x_labels,test_size=0.3)\n",
    "    \n",
    "    print(\"length of training data\")\n",
    "    print(len(x_features_train))\n",
    "    print(\"length of test data\")\n",
    "    print(len(x_features_test))\n",
    "    \n",
    "    return (data_train, x_features_train, x_features_test, x_labels_train, x_labels_test)\n",
    "dataset, X_train, X_test, y_train, y_test = overSample_dataPrepation(dataset)"
   ]
  },
  {
   "cell_type": "markdown",
   "metadata": {},
   "source": [
    "## Class imbalance: Undersampling"
   ]
  },
  {
   "cell_type": "code",
   "execution_count": null,
   "metadata": {},
   "outputs": [],
   "source": [
    "def underSample_dataPrepation(df):\n",
    "    #-counts the distribution of target variable\n",
    "    target_count = df.died.value_counts()\n",
    "    y = df.loc[:, 'died']\n",
    "    X = df.iloc[:, 0:dataset.shape[1]-1]\n",
    "    df_class_0 = df[df['died'] == 0]\n",
    "    df_class_1 = df[df['died'] == 1]\n",
    "    #-oversampling the lowest class to make it equivalent to the majority class\n",
    "    df_class_0_under = df_class_0.sample(target_count[1], replace=True)\n",
    "    #-concatenate the targets after oversampling\n",
    "    data_train = pd.concat([df_class_1, df_class_0_under], axis=0)\n",
    "    target_count_2 = data_train.died.value_counts()\n",
    "    print('Class 0:', target_count_2[0])\n",
    "    print('Class 1:', target_count_2[1])\n",
    "    print('Proportion:', round(target_count_2[0] / target_count_2[1], 2), ': 1')\n",
    "    \n",
    "    x_labels = data_train.loc[:, 'died']\n",
    "    x_features = data_train.iloc[:, 0:dataset.shape[1]-1]\n",
    "    x_features_train,x_features_test,x_labels_train,x_labels_test = train_test_split(x_features,x_labels,test_size=0.3)\n",
    "    \n",
    "    print(\"length of training data\")\n",
    "    print(len(x_features_train))\n",
    "    print(\"length of test data\")\n",
    "    print(len(x_features_test))\n",
    "    \n",
    "    return (data_train, x_features_train, x_features_test, x_labels_train, x_labels_test)\n",
    "dataset, X_train, X_test, y_train, y_test = underSample_dataPrepation(dataset)"
   ]
  },
  {
   "cell_type": "markdown",
   "metadata": {},
   "source": [
    "## Checking multicollinearity"
   ]
  },
  {
   "cell_type": "code",
   "execution_count": null,
   "metadata": {},
   "outputs": [],
   "source": [
    "#Calculate the correlation of the above variables\n",
    "# cor = selectedNumerics.corr()\n",
    "f, ax = plt.subplots(figsize=(16, 12))\n",
    "sns.heatmap(cor, annot=True, linewidths=.5, ax=ax)"
   ]
  },
  {
   "cell_type": "code",
   "execution_count": null,
   "metadata": {},
   "outputs": [],
   "source": [
    "#function for dropping highly correlated variables\n",
    "def correlation(dataset, threshold):\n",
    "    # Set of all the names of deleted columns\n",
    "    col_corr = set()\n",
    "    #applying correlation method\n",
    "    corr_matrix = dataset.corr(method='spearman')\n",
    "    for i in range(len(corr_matrix.columns)):\n",
    "        for j in range(i):\n",
    "            if corr_matrix.iloc[i, j] >= threshold:\n",
    "                # getting the name of column\n",
    "                colname = corr_matrix.columns[i] \n",
    "                col_corr.add(colname)\n",
    "                if colname in dataset.columns:\n",
    "                    # deleting the column from the dataset\n",
    "                    del dataset[colname] # deleting the column from the dataset\n",
    "\n",
    "    return dataset\n",
    "# selectedNumerics = correlation(selectedNumerics, 0.7)\n",
    "# selectedNumerics.columns"
   ]
  }
 ],
 "metadata": {
  "kernelspec": {
   "display_name": "Python 3",
   "language": "python",
   "name": "python3"
  },
  "language_info": {
   "codemirror_mode": {
    "name": "ipython",
    "version": 3
   },
   "file_extension": ".py",
   "mimetype": "text/x-python",
   "name": "python",
   "nbconvert_exporter": "python",
   "pygments_lexer": "ipython3",
   "version": "3.6.1"
  },
  "varInspector": {
   "cols": {
    "lenName": 16,
    "lenType": 16,
    "lenVar": 40
   },
   "kernels_config": {
    "python": {
     "delete_cmd_postfix": "",
     "delete_cmd_prefix": "del ",
     "library": "var_list.py",
     "varRefreshCmd": "print(var_dic_list())"
    },
    "r": {
     "delete_cmd_postfix": ") ",
     "delete_cmd_prefix": "rm(",
     "library": "var_list.r",
     "varRefreshCmd": "cat(var_dic_list()) "
    }
   },
   "types_to_exclude": [
    "module",
    "function",
    "builtin_function_or_method",
    "instance",
    "_Feature"
   ],
   "window_display": false
  }
 },
 "nbformat": 4,
 "nbformat_minor": 2
}
