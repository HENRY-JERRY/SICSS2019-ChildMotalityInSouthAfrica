{
 "cells": [
  {
   "cell_type": "code",
   "execution_count": 86,
   "metadata": {},
   "outputs": [],
   "source": [
    "#importing libraries\n",
    "import pandas as pd\n",
    "import numpy as np\n",
    "import xgboost as xgb\n",
    "from xgboost.sklearn import XGBClassifier\n",
    "from sklearn import metrics   #Additional scklearn functions\n",
    "from sklearn.model_selection import learning_curve, GridSearchCV  #Perforing grid search\n",
    "from sklearn.model_selection import cross_validate\n",
    "import matplotlib.pylab as plt\n",
    "from matplotlib.pylab import rcParams\n",
    "rcParams['figure.figsize'] = 12, 4\n",
    "\n",
    "import seaborn as sns\n",
    "sns.set(style=\"darkgrid\")\n",
    "%matplotlib inline\n",
    "\n",
    "import matplotlib.pyplot as plt\n",
    "from sklearn.model_selection import StratifiedKFold\n",
    "from sklearn.metrics import roc_auc_score\n",
    "from sklearn.model_selection import train_test_split \n",
    "\n",
    "\n",
    "import warnings\n",
    "warnings.filterwarnings(\"ignore\")"
   ]
  },
  {
   "cell_type": "code",
   "execution_count": 87,
   "metadata": {},
   "outputs": [],
   "source": [
    "dataset = pd.read_csv('../data/child_master_file.csv')"
   ]
  },
  {
   "cell_type": "code",
   "execution_count": 88,
   "metadata": {},
   "outputs": [],
   "source": [
    "selectedCategoricalColumns = ['age_group','w5_best_marstt','educat','w5_geo2011','w5_best_race','w5_empl_stat',\n",
    "                   'w5_hhead_gen','water_source','w5_h_enrgelec','cooking_energy','hhsize_grp','w5_h_dwltyp']\n",
    "\n",
    "selectedNumericalColumns = ['v101', 'v102', 'v103', 'v104', 'v105', 'v106', 'v107', 'v108', 'v109',\n",
    "       'v110', 'v113', 'v116', 'v130','v132','v133','v139','v146']"
   ]
  },
  {
   "cell_type": "code",
   "execution_count": 89,
   "metadata": {},
   "outputs": [],
   "source": [
    "target = dataset['died'].astype('int')\n",
    "\n",
    "selectedCategories = dataset[selectedCategoricalColumns].astype('O')\n",
    "\n",
    "selectedNumerics = dataset[selectedNumericalColumns].astype('int64','float64')\n",
    "\n",
    "selectedDataset = selectedCategories.join(selectedNumerics, how='outer')\n",
    "\n",
    "categoricals = selectedDataset.select_dtypes(include='object')\n",
    "# Take k-1 dummies out of k categorical levels, drop_first set to true\n",
    "categoricals = pd.get_dummies(categoricals,drop_first=True)#,drop_first=True\n",
    "#numerics can be normalized separately\n",
    "numerics = selectedDataset.select_dtypes(include=['int64','float64'])\n",
    "selectedDataset = categoricals.join(numerics)\n",
    "selectedDataset.head()\n",
    "\n",
    "dataset = selectedDataset.join(target, how='outer')"
   ]
  },
  {
   "cell_type": "code",
   "execution_count": 90,
   "metadata": {},
   "outputs": [
    {
     "name": "stdout",
     "output_type": "stream",
     "text": [
      "Class 0: 149\n",
      "Class 1: 149\n",
      "Proportion: 1.0 : 1\n",
      "length of training data\n",
      "208\n",
      "length of test data\n",
      "90\n"
     ]
    }
   ],
   "source": [
    "def underSample_dataPrepation(df):\n",
    "    #-counts the distribution of target variable\n",
    "    target_count = df.died.value_counts()\n",
    "    y = df.loc[:, 'died']\n",
    "    X = df.iloc[:, 0:dataset.shape[1]-1]\n",
    "    df_class_0 = df[df['died'] == 0]\n",
    "    df_class_1 = df[df['died'] == 1]\n",
    "    #-oversampling the lowest class to make it equivalent to the majority class\n",
    "    df_class_0_under = df_class_0.sample(target_count[1], replace=True)\n",
    "    #-concatenate the targets after oversampling\n",
    "    data_train = pd.concat([df_class_1, df_class_0_under], axis=0)\n",
    "    target_count_2 = data_train.died.value_counts()\n",
    "    print('Class 0:', target_count_2[0])\n",
    "    print('Class 1:', target_count_2[1])\n",
    "    print('Proportion:', round(target_count_2[0] / target_count_2[1], 2), ': 1')\n",
    "    \n",
    "    x_labels = data_train.loc[:, 'died']\n",
    "    x_features = data_train.iloc[:, 0:dataset.shape[1]-1]\n",
    "    x_features_train,x_features_test,x_labels_train,x_labels_test = train_test_split(x_features,x_labels,test_size=0.3)\n",
    "    \n",
    "    print(\"length of training data\")\n",
    "    print(len(x_features_train))\n",
    "    print(\"length of test data\")\n",
    "    print(len(x_features_test))\n",
    "    \n",
    "    return (data_train, x_features_train, x_features_test, x_labels_train, x_labels_test)\n",
    "dataset, train_df, test_df, target, target_real = underSample_dataPrepation(dataset)"
   ]
  },
  {
   "cell_type": "code",
   "execution_count": 91,
   "metadata": {},
   "outputs": [],
   "source": [
    "X = dataset.iloc[:,:-1]\n",
    "y = dataset['died'].values"
   ]
  },
  {
   "cell_type": "code",
   "execution_count": 92,
   "metadata": {},
   "outputs": [],
   "source": [
    "def modelfit(alg, train_df,target,test_df,target_real,useTrainCV=True, cv_folds=10, early_stopping_rounds=250):\n",
    "    \n",
    "    if useTrainCV:\n",
    "        xgb_param = alg.get_xgb_params()\n",
    "        xgtrain = xgb.DMatrix(train_df.values, label=target.values)\n",
    "        cvresult = xgb.cv(xgb_param, xgtrain, num_boost_round=alg.get_params()['n_estimators'], nfold=cv_folds,\n",
    "            metrics='auc', early_stopping_rounds=early_stopping_rounds)\n",
    "        alg.set_params(n_estimators=cvresult.shape[0])\n",
    "    \n",
    "    #Fit the algorithm on the data\n",
    "    alg.fit(train_df, target, eval_metric='auc')\n",
    "        \n",
    "    #Predict training set:\n",
    "    y_pred = alg.predict(test_df)\n",
    "    y_predprob = alg.predict_proba(test_df)[:,1]\n",
    "\n",
    "    #Print model report:\n",
    "    print(\"\\nModel Report\")\n",
    "    print(\"Accuracy : %.4g\" % metrics.accuracy_score(target_real.values, y_pred))\n",
    "    print(\"AUC Score (Train): %f\" % metrics.roc_auc_score(target_real, y_predprob))\n",
    "    \n",
    "#     feat_imp = pd.Series(alg.booster().get_fscore()).sort_values(ascending=False)\n",
    "#     feat_imp.plot(kind='bar', title='Feature Importances')\n",
    "#     plt.ylabel('Feature Importance Score')\n",
    "    return y_pred, y_predprob, alg"
   ]
  },
  {
   "cell_type": "code",
   "execution_count": 93,
   "metadata": {},
   "outputs": [
    {
     "name": "stdout",
     "output_type": "stream",
     "text": [
      "\n",
      "Model Report\n",
      "Accuracy : 0.5556\n",
      "AUC Score (Train): 0.549160\n"
     ]
    }
   ],
   "source": [
    "#set the parameters\n",
    "xgb1 = XGBClassifier(\n",
    " learning_rate =0.01,\n",
    " n_estimators=1000,\n",
    " max_depth=20,\n",
    " min_child_weight=1,\n",
    " gamma=0,\n",
    " subsample=0.8,\n",
    " colsample_bytree=0.8,\n",
    " objective= 'binary:logistic',\n",
    " nthread=4,\n",
    " scale_pos_weight=1,\n",
    " seed=27)\n",
    "y_pred, y_predprob, clf  = modelfit(xgb1,train_df,target,test_df,target_real)"
   ]
  },
  {
   "cell_type": "code",
   "execution_count": 94,
   "metadata": {},
   "outputs": [
    {
     "data": {
      "text/plain": [
       "Counter({1: 48, 0: 42})"
      ]
     },
     "execution_count": 94,
     "metadata": {},
     "output_type": "execute_result"
    }
   ],
   "source": [
    "import collections\n",
    "collections.Counter(y_pred)"
   ]
  },
  {
   "cell_type": "code",
   "execution_count": 95,
   "metadata": {},
   "outputs": [
    {
     "data": {
      "text/plain": [
       "array([[23, 21],\n",
       "       [19, 27]], dtype=int64)"
      ]
     },
     "execution_count": 95,
     "metadata": {},
     "output_type": "execute_result"
    }
   ],
   "source": [
    "#Confusion matrix\n",
    "from sklearn.metrics import confusion_matrix\n",
    "confusion = confusion_matrix(target_real.values, y_pred)\n",
    "TP = confusion[1, 1]\n",
    "TN = confusion[0, 0]\n",
    "FP = confusion[0, 1]\n",
    "FN = confusion[1, 0]\n",
    "confusion"
   ]
  },
  {
   "cell_type": "code",
   "execution_count": 96,
   "metadata": {},
   "outputs": [
    {
     "data": {
      "text/plain": [
       "0.5555555555555556"
      ]
     },
     "execution_count": 96,
     "metadata": {},
     "output_type": "execute_result"
    }
   ],
   "source": [
    "#Accuracy\n",
    "from sklearn.metrics import accuracy_score\n",
    "accuracy=accuracy_score(y_pred, target_real.values)\n",
    "accuracy"
   ]
  },
  {
   "cell_type": "markdown",
   "metadata": {},
   "source": [
    "##### Sensitivity: When the actual value is positive, how often is the prediction correct?\n",
    "\n",
    "How \"sensitive\" is the classifier to detecting positive instances?\n",
    "Also known as \"True Positive Rate\" or \"Recall\""
   ]
  },
  {
   "cell_type": "code",
   "execution_count": 97,
   "metadata": {},
   "outputs": [
    {
     "name": "stdout",
     "output_type": "stream",
     "text": [
      "0.5869565217391305\n",
      "0.5869565217391305\n"
     ]
    }
   ],
   "source": [
    "from sklearn import metrics\n",
    "print(TP / float(TP + FN))\n",
    "print(metrics.recall_score(target_real.values, y_pred))"
   ]
  },
  {
   "cell_type": "markdown",
   "metadata": {},
   "source": [
    "#### Specificity: When the actual value is negative, how often is the prediction correct?\n",
    "\n",
    "How \"specific\" (or \"selective\") is the classifier in predicting positive instances?"
   ]
  },
  {
   "cell_type": "code",
   "execution_count": 98,
   "metadata": {},
   "outputs": [
    {
     "name": "stdout",
     "output_type": "stream",
     "text": [
      "0.5227272727272727\n"
     ]
    }
   ],
   "source": [
    "print(TN / float(TN + FP))"
   ]
  },
  {
   "cell_type": "code",
   "execution_count": 99,
   "metadata": {},
   "outputs": [
    {
     "name": "stdout",
     "output_type": "stream",
     "text": [
      "0.5491600790513834\n"
     ]
    },
    {
     "data": {
      "image/png": "[encoded data removed]",
      "text/plain": [
       "<Figure size 432x288 with 1 Axes>"
      ]
     },
     "metadata": {},
     "output_type": "display_data"
    }
   ],
   "source": [
    "from sklearn.metrics import roc_curve\n",
    "fpr, tpr, thresholds = roc_curve(target_real.values, y_predprob)\n",
    "plt.plot(fpr, tpr)\n",
    "plt.xlim([0.0, 1.0])\n",
    "plt.ylim([0.0, 1.0])\n",
    "plt.title('ROC curve for performance classifier')\n",
    "plt.xlabel('False Positive Rate (1 - Specificity)')\n",
    "plt.ylabel('True Positive Rate (Sensitivity)')\n",
    "plt.grid(True)\n",
    "\n",
    "print(metrics.roc_auc_score(target_real.values, y_predprob))"
   ]
  },
  {
   "cell_type": "markdown",
   "metadata": {},
   "source": [
    "### SHAP values"
   ]
  },
  {
   "cell_type": "code",
   "execution_count": 100,
   "metadata": {},
   "outputs": [],
   "source": [
    "import shap\n",
    "\n",
    "explainer = shap.TreeExplainer(clf)"
   ]
  },
  {
   "cell_type": "code",
   "execution_count": 101,
   "metadata": {},
   "outputs": [],
   "source": [
    "shap_values = explainer.shap_values(test_df.iloc[:test_df.shape[0],:])\n",
    "shap_values.shape\n",
    "\n",
    "shap_values = shap.TreeExplainer(clf).shap_values(test_df.iloc[:test_df.shape[0],:])\n",
    "shap_values.shape\n",
    "\n",
    "global_importances = np.abs(shap_values).mean(0)[:-1]"
   ]
  },
  {
   "cell_type": "code",
   "execution_count": 103,
   "metadata": {},
   "outputs": [
    {
     "data": {
      "image/png": "[encoded data removed]",
      "text/plain": [
       "<Figure size 360x720 with 1 Axes>"
      ]
     },
     "metadata": {},
     "output_type": "display_data"
    }
   ],
   "source": [
    "# make a bar chart that shows the global importance of the top 20 features\n",
    "inds = np.argsort(-global_importances)\n",
    "f = plt.figure(figsize=(5,10))\n",
    "y_pos = np.arange(30)\n",
    "inds2 = np.flip(inds[:30], 0)\n",
    "plt.barh(y_pos, global_importances[inds2], align='center', color=\"#1E88E5\")\n",
    "plt.yticks(y_pos, fontsize=10)\n",
    "plt.gca().set_yticklabels(train_df.columns[inds2])\n",
    "plt.xlabel('mean abs. SHAP value (impact on model output)', fontsize=10)\n",
    "plt.gca().xaxis.set_ticks_position('bottom')\n",
    "plt.gca().yaxis.set_ticks_position('none')\n",
    "plt.gca().spines['right'].set_visible(False)\n",
    "plt.gca().spines['top'].set_visible(False)\n",
    "plt.savefig('../images/featureimportance.png', bbox_inches='tight')"
   ]
  },
  {
   "cell_type": "code",
   "execution_count": null,
   "metadata": {},
   "outputs": [],
   "source": []
  }
 ],
 "metadata": {
  "kernelspec": {
   "display_name": "Python 3",
   "language": "python",
   "name": "python3"
  },
  "language_info": {
   "codemirror_mode": {
    "name": "ipython",
    "version": 3
   },
   "file_extension": ".py",
   "mimetype": "text/x-python",
   "name": "python",
   "nbconvert_exporter": "python",
   "pygments_lexer": "ipython3",
   "version": "3.6.1"
  },
  "varInspector": {
   "cols": {
    "lenName": 16,
    "lenType": 16,
    "lenVar": 40
   },
   "kernels_config": {
    "python": {
     "delete_cmd_postfix": "",
     "delete_cmd_prefix": "del ",
     "library": "var_list.py",
     "varRefreshCmd": "print(var_dic_list())"
    },
    "r": {
     "delete_cmd_postfix": ") ",
     "delete_cmd_prefix": "rm(",
     "library": "var_list.r",
     "varRefreshCmd": "cat(var_dic_list()) "
    }
   },
   "types_to_exclude": [
    "module",
    "function",
    "builtin_function_or_method",
    "instance",
    "_Feature"
   ],
   "window_display": false
  }
 },
 "nbformat": 4,
 "nbformat_minor": 2
}
